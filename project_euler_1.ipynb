{
 "cells": [
  {
   "cell_type": "markdown",
   "source": [
    "# Multiples of 3 or 5\n",
    "\n",
    "Problem 1\n",
    "If we list all the natural numbers below 10 that are multiples of 3 or 5, we get 3, 5, 6 and 9.\n",
    "The sum of these multiples is 23.\n",
    "\n",
    "Find the sum of all the multiples of 3 or 5 below 1000."
   ],
   "metadata": {
    "collapsed": false,
    "pycharm": {
     "name": "#%% md\n"
    }
   }
  },
  {
   "cell_type": "markdown",
   "source": [
    "Explanation:<br>\n",
    "The series of all consecutibe natural numbers smaller than n is:<br>\n",
    "$(0,1,2,3,...,(n - 1))$<br>\n",
    "The sum of all consecutive natural numbers between 0 and n (smaller than n) is:<br>\n",
    "$\\frac{((n - 1)+1) \\cdot (n - 1)}{2}$<br>\n",
    "The series of all consecutive natural numbers that are multiple of d and are smaller or equal than n is:<br>\n",
    "$d \\cdot (0,1,2,3,...,\\Big \\lfloor \\frac{(n - 1)}{d} \\Big\\rfloor)$<br>\n",
    "Therefore, the sum of all consecutive natural numbers between 0 and n that are multiple of d is:<br>\n",
    "$d \\cdot \\Big(\\frac{(\\lfloor \\frac{(n - 1)}{d} \\rfloor+1) \\cdot \\lfloor \\frac{(n - 1)}{d} \\rfloor}{2}\\Big)$<br>"
   ],
   "metadata": {
    "collapsed": false,
    "pycharm": {
     "name": "#%% md\n"
    }
   }
  },
  {
   "cell_type": "code",
   "execution_count": 26,
   "outputs": [],
   "source": [
    "import math\n",
    "\n",
    "def multiples_sum(n: int, d: int) -> int:\n",
    " return int(d * (math.floor(n/d) + 1) * (math.floor(n/d)) / 2)"
   ],
   "metadata": {
    "collapsed": false,
    "pycharm": {
     "name": "#%%\n"
    }
   }
  },
  {
   "cell_type": "markdown",
   "source": [
    "To solve the problem, we need the natural numbers that are multiple of 3 and the numbers that are multiples of 5 between 0 and 1000."
   ],
   "metadata": {
    "collapsed": false,
    "pycharm": {
     "name": "#%% md\n"
    }
   }
  },
  {
   "cell_type": "code",
   "execution_count": 27,
   "outputs": [
    {
     "name": "stdout",
     "output_type": "stream",
     "text": [
      "266333\n"
     ]
    }
   ],
   "source": [
    "three = multiples_sum(1000 -1, 3)\n",
    "five = multiples_sum(1000 -1, 5)\n",
    "\n",
    "print(three + five)"
   ],
   "metadata": {
    "collapsed": false,
    "pycharm": {
     "name": "#%%\n"
    }
   }
  },
  {
   "cell_type": "markdown",
   "source": [
    "But this is not the right answer. Because we are counting double the numbers that are multiples of 3 and 5 at the same time.\n",
    "They are multiples of 15. Therefore to the whole sum, we have to subtract the multiples of 15."
   ],
   "metadata": {
    "collapsed": false,
    "pycharm": {
     "name": "#%% md\n"
    }
   }
  },
  {
   "cell_type": "code",
   "execution_count": 28,
   "outputs": [
    {
     "name": "stdout",
     "output_type": "stream",
     "text": [
      "233168\n"
     ]
    }
   ],
   "source": [
    "fifteen = multiples_sum(1000 -1, 15)\n",
    "\n",
    "print(three + five - fifteen)"
   ],
   "metadata": {
    "collapsed": false,
    "pycharm": {
     "name": "#%%\n"
    }
   }
  }
 ],
 "metadata": {
  "kernelspec": {
   "display_name": "Python 3",
   "language": "python",
   "name": "python3"
  },
  "language_info": {
   "codemirror_mode": {
    "name": "ipython",
    "version": 2
   },
   "file_extension": ".py",
   "mimetype": "text/x-python",
   "name": "python",
   "nbconvert_exporter": "python",
   "pygments_lexer": "ipython2",
   "version": "2.7.6"
  }
 },
 "nbformat": 4,
 "nbformat_minor": 0
}