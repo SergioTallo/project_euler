{
 "cells": [
  {
   "cell_type": "markdown",
   "source": [
    "# Summation of primes\n",
    "\n",
    "Problem 10\n",
    "The sum of the primes below 10 is 2 + 3 + 5 + 7 = 17.\n",
    "\n",
    "Find the sum of all the primes below two million."
   ],
   "metadata": {
    "collapsed": false,
    "pycharm": {
     "name": "#%% md\n"
    }
   }
  },
  {
   "cell_type": "code",
   "execution_count": 235,
   "metadata": {
    "collapsed": true,
    "pycharm": {
     "name": "#%%\n"
    }
   },
   "outputs": [
    {
     "name": "stdout",
     "output_type": "stream",
     "text": [
      "142913828922\n",
      "9332.426\n"
     ]
    }
   ],
   "source": [
    "import math\n",
    "\n",
    "from datetime import datetime\n",
    "start_time = datetime.now()\n",
    "\n",
    "def is_prime(n: int) -> bool:\n",
    "\n",
    "    if n == 1:\n",
    "        return False\n",
    "    if n == 2 or n == 3:\n",
    "        return True\n",
    "\n",
    "    if n % 2 == 0 or n % 3 == 0:\n",
    "        return False\n",
    "\n",
    "    # All composites under 25 are multiples of 2 and 3. Therefore they are covered.\n",
    "    k = 5\n",
    "\n",
    "    while k <= math.floor(math.sqrt(n)):\n",
    "\n",
    "        # k=5 is 6k-1 (6 * 1 -1) and k + 2 = 7 (6 * 1 +1)\n",
    "        if n % k == 0 or n % (k + 2) == 0:\n",
    "            return False\n",
    "        # Now we check every 6 integers ((5,7), (11, 13), (17, 19)...)\n",
    "        k += 6\n",
    "\n",
    "    return True\n",
    "\n",
    "n = 2000000\n",
    "sum = 0\n",
    "\n",
    "for i in range(n +1):\n",
    "    if is_prime(i):\n",
    "        sum += i\n",
    "\n",
    "print(sum)\n",
    "\n",
    "end_time = datetime.now()\n",
    "time_diff = (end_time - start_time)\n",
    "execution_time = time_diff.total_seconds() * 1000\n",
    "\n",
    "print(execution_time)"
   ]
  },
  {
   "cell_type": "markdown",
   "source": [
    "algorithm Sieve of Eratosthenes is\n",
    "input: an integer n > 1.\n",
    "output: all prime numbers from 2 through n.\n",
    "\n",
    "let A be an array of Boolean values, indexed by integers 2 to n,\n",
    "initially all set to true.\n",
    "\n",
    "for i = 2, 3, 4, ..., not exceeding √n do\n",
    "if A[i] is true\n",
    "    for j = i2, i2+i, i2+2i, i2+3i, ..., not exceeding n do\n",
    "    A[j] := false\n",
    "\n",
    "return all i such that A[i] is true."
   ],
   "metadata": {
    "collapsed": false,
    "pycharm": {
     "name": "#%% md\n"
    }
   }
  },
  {
   "cell_type": "code",
   "execution_count": 316,
   "outputs": [
    {
     "name": "stdout",
     "output_type": "stream",
     "text": [
      "142913828922\n",
      "466.872\n"
     ]
    }
   ],
   "source": [
    "import math\n",
    "\n",
    "from datetime import datetime\n",
    "start_time = datetime.now()\n",
    "\n",
    "# Sieve of erathostenes\n",
    "def sieve_erat(n):\n",
    "    A = [1 for i in range(n+1)]\n",
    "    A[0] = 0\n",
    "    A[1] = 0\n",
    "    for i in range(4, n+1, 2):\n",
    "        A[i] = 0\n",
    "    for i in range(6, n+1, 3):\n",
    "        A[i] = 0\n",
    "\n",
    "    for i in range(5, math.ceil(math.sqrt(n)), 6):\n",
    "        if A[i]:\n",
    "            j = i * 2\n",
    "            while j <= n:\n",
    "                A[j] = 0\n",
    "                j += i\n",
    "\n",
    "        if A[i +2]:\n",
    "            j = (i+2) * 2\n",
    "            while j <= n:\n",
    "                A[j] = 0\n",
    "                j += (i+2)\n",
    "\n",
    "    return A\n",
    "\n",
    "n = 2000000\n",
    "primes = sieve_erat(n)\n",
    "\n",
    "if n <= 11:\n",
    "    sum = 0\n",
    "    for i in range(n+1):\n",
    "        if i > n:\n",
    "            break\n",
    "        else:\n",
    "            if primes[i] == 1:\n",
    "                sum += i\n",
    "\n",
    "    print(sum)\n",
    "\n",
    "else:\n",
    "    sum = 17\n",
    "\n",
    "    for i in range(11, len(primes) - 2, 6):\n",
    "        if primes[i] == 1:\n",
    "            sum += i\n",
    "\n",
    "        if primes[i + 2] == 1:\n",
    "            sum += i + 2\n",
    "\n",
    "    print(sum)\n",
    "\n",
    "\n",
    "end_time = datetime.now()\n",
    "time_diff = (end_time - start_time)\n",
    "execution_time = time_diff.total_seconds() * 1000\n",
    "\n",
    "print(execution_time)"
   ],
   "metadata": {
    "collapsed": false,
    "pycharm": {
     "name": "#%%\n"
    }
   }
  },
  {
   "cell_type": "code",
   "execution_count": 314,
   "outputs": [
    {
     "name": "stdout",
     "output_type": "stream",
     "text": [
      "142913828922\n",
      "721.442\n"
     ]
    }
   ],
   "source": [
    "import math\n",
    "\n",
    "from datetime import datetime\n",
    "start_time = datetime.now()\n",
    "\n",
    "# Sieve of erathostenes\n",
    "def sieve_erat_sum(n):\n",
    "    sums = []\n",
    "    A = [1 for i in range(n+1)]\n",
    "    A[0] = 0\n",
    "    A[1] = 0\n",
    "\n",
    "    sum_ = 0\n",
    "\n",
    "    for i in range(n +1):\n",
    "        if A[i]:\n",
    "            j = i * 2\n",
    "            while j <= n:\n",
    "                A[j] = 0\n",
    "                j += i\n",
    "\n",
    "            sum_ += i\n",
    "\n",
    "        sums.append(sum_)\n",
    "\n",
    "    return sums\n",
    "\n",
    "n = 2000000\n",
    "\n",
    "primes = sieve_erat_sum(n)\n",
    "\n",
    "print(primes[n])\n",
    "\n",
    "end_time = datetime.now()\n",
    "time_diff = (end_time - start_time)\n",
    "execution_time = time_diff.total_seconds() * 1000\n",
    "\n",
    "print(execution_time)"
   ],
   "metadata": {
    "collapsed": false,
    "pycharm": {
     "name": "#%%\n"
    }
   }
  },
  {
   "cell_type": "code",
   "execution_count": null,
   "outputs": [],
   "source": [],
   "metadata": {
    "collapsed": false,
    "pycharm": {
     "name": "#%%\n"
    }
   }
  }
 ],
 "metadata": {
  "kernelspec": {
   "display_name": "Python 3",
   "language": "python",
   "name": "python3"
  },
  "language_info": {
   "codemirror_mode": {
    "name": "ipython",
    "version": 2
   },
   "file_extension": ".py",
   "mimetype": "text/x-python",
   "name": "python",
   "nbconvert_exporter": "python",
   "pygments_lexer": "ipython2",
   "version": "2.7.6"
  }
 },
 "nbformat": 4,
 "nbformat_minor": 0
}