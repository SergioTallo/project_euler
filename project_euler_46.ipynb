{
 "cells": [
  {
   "cell_type": "markdown",
   "source": [
    "# Goldbach's other conjecture\n",
    "\n",
    "Problem 46\n",
    "\n",
    "It was proposed by Christian Goldbach that every odd composite number can be written as the sum of a prime and twice a square.\n",
    "\n",
    "$9 = 7 + 2×1^2$<br>\n",
    "$15 = 7 + 2×2^2$<br>\n",
    "$21 = 3 + 2×3^2$<br>\n",
    "$25 = 7 + 2×3^2$<br>\n",
    "$27 = 19 + 2×2^2$<br>\n",
    "$33 = 31 + 2×1^2$<br>\n",
    "\n",
    "It turns out that the conjecture was false.\n",
    "\n",
    "What is the smallest odd composite that cannot be written as the sum of a prime and twice a square?"
   ],
   "metadata": {
    "collapsed": false,
    "pycharm": {
     "name": "#%% md\n"
    }
   }
  },
  {
   "cell_type": "markdown",
   "source": [
    "# Explanation\n",
    "\n",
    "First of all, we need to remember that an odd compposite number is an odd number > 1 that is not a prime.<br>\n",
    "Than, we need check every odd number (n) to see if we could write them in the form:\n",
    "\n",
    "$n = p + 2i^2$\n",
    "\n",
    "where:<br>\n",
    "p is a prime number $\\leq  n$<br>\n",
    "i is a natural number $\\leq  n$<br>\n",
    "\n",
    "We need to observe that, we don't need to check every n, because we only need odd numbers. We can check every second number, starting with 3.\n",
    "The first step would be check if n is a prime number (we don't take in account now this implementation, but we talk about it later). If n is a prime number we don't need to check n.<br>\n",
    "Then, check every $p \\leq  n$ and every $i \\leq  n$ would be extremely inefficient and expensive $O(n^2)$. Therefore we need to adjust our formula.\n",
    "To check $n = p + 2i^2$ we can compute $p = n - 2i^2$ and if p is a prime number for any i < n, then the conjecture is true.<br>\n",
    "This is computing expensive, therefore we need to optimize.\n",
    "First, we dont need to check every i < n:\n",
    "because p has to be bigger than 1, than:\n",
    "$$ n - 2i^2 > 0 $$\n",
    "$$ n > 2i^2$$\n",
    "$$ \\frac{n}{2} > i^2 $$\n",
    "$$ \\sqrt{\\frac{n}{2}} > i $$\n",
    "\n",
    "Therefore we only have to check the integers from 0 to $ \\sqrt{\\frac{n}{2}} $\n",
    "\n",
    "And check if:\n",
    " $ \\exists i : p = n - 2i^2 \\rightarrow$ p is a prime number\n",
    "\n",
    "This reduce this part of our algorithm to an $O\\Big(\\sqrt{\\frac{n}{2}}\\Big)$ (without counting the cost of checking if p is a prime number)\n",
    "\n",
    "If we check every $ i < \\sqrt{\\frac{n}{2}} $ and we don't satisfy the premise, than the conjecture is false.\n",
    "We have to check to every odd integer and print the first n that doesn't satisfy the conjecture."
   ],
   "metadata": {
    "collapsed": false,
    "pycharm": {
     "name": "#%% md\n"
    }
   }
  },
  {
   "cell_type": "markdown",
   "source": [
    "Now we have the second problem, that is that check if a large prime number p is a prime with brute force is expensive for big numbers $O(n)$ and we check $ \\sqrt{\\frac{n}{2}} $ times for every n if p is a prime.\n",
    "With force brute we need to check for every integer smaller than p if p % i = 0 till we found a match. If we found a match, we can say p is not prime. If we come to i = p without a match than we can say p is a prime number.<br>\n",
    "The first optimization that we can do is that we only need to check till $\\sqrt{n}$, because the higher multiple of p could only be smaller or equal as $\\sqrt{p}$, therefore there is no integer $\\sqrt{p} < i < p$ that could satisfy p % i = 0, therefore we don't need to check them.<br>\n",
    "Now, we have to use another property of the prime numbers, that is:<br>\n",
    "We know that the factors of a composite number are prime numbers. Therefore we only need to check if p is a multiple of a prime number.<br>\n",
    "Also, another property of the prime numbers is that every prime number bigger than 3 can be written in the form $6k\\pm1$ where k is a natural number.\n",
    "Therefore, a factor of an integer can only be of the form $6k\\pm1$.\n",
    "Therefore we only need to check if p is a multiple of integers of the form $6k\\pm1$, for example\n",
    "5,7\n",
    "11,13\n",
    "17,19\n",
    "...\n",
    "This accelerate the computation, in form that we only need to check two numbers every 6th integer that are $5\\leq i \\leq \\sqrt{p}$, therefore we have $O\\Big(\\frac{\\sqrt{n}}{3}\\Big)$"
   ],
   "metadata": {
    "collapsed": false,
    "pycharm": {
     "name": "#%% md\n"
    }
   }
  },
  {
   "cell_type": "code",
   "execution_count": 112,
   "outputs": [
    {
     "name": "stdout",
     "output_type": "stream",
     "text": [
      "5777\n"
     ]
    }
   ],
   "source": [
    "import math\n",
    "\n",
    "def is_prime(n: int) -> bool:\n",
    "    if n == 1:\n",
    "        return False\n",
    "    if n == 2 or n == 3:\n",
    "        return True\n",
    "\n",
    "    if n % 2 == 0 or n % 3 == 0:\n",
    "        return False\n",
    "\n",
    "    # All composites under 25 are multiples of 2 and 3. Therefore they are covered.\n",
    "    k = 5\n",
    "\n",
    "    while k <= math.floor(math.sqrt(n)):\n",
    "\n",
    "        # k=5 is 6k-1 (6 * 1 -1) and k + 2 = 7 (6 * 1 +1)\n",
    "        if n % k == 0 or n % (k + 2) == 0:\n",
    "            return False\n",
    "        # Now we check every 6 integers ((5,7), (11, 13), (17, 19)...)\n",
    "        k += 6\n",
    "    return True\n",
    "\n",
    "conjecture = True\n",
    "n = 3\n",
    "\n",
    "while conjecture is True:\n",
    "\n",
    "    conjecture = False\n",
    "\n",
    "    if is_prime(n) is False:\n",
    "        for k in range(math.floor(math.sqrt(n/2)) +1):\n",
    "            s = (n - (2 * (k**2)))\n",
    "            if is_prime(s) is True:\n",
    "                conjecture = True\n",
    "                n += 2\n",
    "    else:\n",
    "        conjecture = True\n",
    "        n += 2\n",
    "\n",
    "print(n)"
   ],
   "metadata": {
    "collapsed": false,
    "pycharm": {
     "name": "#%%\n"
    }
   }
  },
  {
   "cell_type": "code",
   "execution_count": null,
   "outputs": [],
   "source": [],
   "metadata": {
    "collapsed": false,
    "pycharm": {
     "name": "#%%\n"
    }
   }
  }
 ],
 "metadata": {
  "kernelspec": {
   "display_name": "Python 3",
   "language": "python",
   "name": "python3"
  },
  "language_info": {
   "codemirror_mode": {
    "name": "ipython",
    "version": 2
   },
   "file_extension": ".py",
   "mimetype": "text/x-python",
   "name": "python",
   "nbconvert_exporter": "python",
   "pygments_lexer": "ipython2",
   "version": "2.7.6"
  }
 },
 "nbformat": 4,
 "nbformat_minor": 0
}