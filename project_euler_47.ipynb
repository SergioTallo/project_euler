{
 "cells": [
  {
   "cell_type": "markdown",
   "source": [
    "# Distinct primes factors\n",
    "\n",
    "Problem 47\n",
    "The first two consecutive numbers to have two distinct prime factors are:\n",
    "\n",
    "14 = 2 × 7\n",
    "15 = 3 × 5\n",
    "\n",
    "The first three consecutive numbers to have three distinct prime factors are:\n",
    "\n",
    "644 = 2² × 7 × 23\n",
    "645 = 3 × 5 × 43\n",
    "646 = 2 × 17 × 19.\n",
    "\n",
    "Find the first four consecutive integers to have four distinct prime factors each. What is the first of these numbers?"
   ],
   "metadata": {
    "collapsed": false,
    "pycharm": {
     "name": "#%% md\n"
    }
   }
  },
  {
   "cell_type": "markdown",
   "source": [
    "$\\frac{n \\cdot \\sqrt {n}}{3}$ = $O(n^\\frac{3}{2})$"
   ],
   "metadata": {
    "collapsed": false,
    "pycharm": {
     "name": "#%% md\n"
    }
   }
  },
  {
   "cell_type": "markdown",
   "source": [],
   "metadata": {
    "collapsed": false,
    "pycharm": {
     "name": "#%% md\n"
    }
   }
  },
  {
   "cell_type": "code",
   "execution_count": 8,
   "outputs": [
    {
     "name": "stdout",
     "output_type": "stream",
     "text": [
      "[134043, 134044, 134045, 134046]\n",
      "1086.079\n"
     ]
    }
   ],
   "source": [
    "import math\n",
    "from datetime import datetime\n",
    "\n",
    "start_time = datetime.now()\n",
    "\n",
    "length = 4\n",
    "\n",
    "def is_prime(n: int) -> bool:\n",
    "    if n == 1:\n",
    "        return False\n",
    "    if n == 2 or n == 3:\n",
    "        return True\n",
    "\n",
    "    if n % 2 == 0 or n % 3 == 0:\n",
    "        return False\n",
    "\n",
    "    # All composites under 25 are multiples of 2 and 3. Therefore they are covered.\n",
    "    k = 5\n",
    "\n",
    "    while k <= math.floor(math.sqrt(n)):\n",
    "\n",
    "        # k=5 is 6k-1 (6 * 1 -1) and k + 2 = 7 (6 * 1 +1)\n",
    "        if n % k == 0 or n % (k + 2) == 0:\n",
    "            return False\n",
    "        # Now we check every 6 integers ((5,7), (11, 13), (17, 19)...)\n",
    "        k += 6\n",
    "    return True\n",
    "\n",
    "i = 5\n",
    "\n",
    "possible_factors = [2, 3]\n",
    "\n",
    "while i < 100000:\n",
    "    if is_prime(i):\n",
    "        possible_factors.append(i)\n",
    "    if is_prime(i + 2):\n",
    "        possible_factors.append(i + 2)\n",
    "    i += 6\n",
    "\n",
    "consecutives = []\n",
    "\n",
    "j = 1\n",
    "\n",
    "while j:\n",
    "\n",
    "    result = []\n",
    "    k = j\n",
    "    while k > 1:\n",
    "        for i in possible_factors:\n",
    "            if i < math.sqrt(k):\n",
    "                if k % i == 0:\n",
    "                    if i not in result:\n",
    "                        result.append(i)\n",
    "                    k = int(k/i)\n",
    "                    break\n",
    "            else:\n",
    "                if k != 1 and k not in result:\n",
    "                    result.append(k)\n",
    "                k = int(k/k)\n",
    "                break\n",
    "\n",
    "    if len(result) == length:\n",
    "        consecutives.append(j)\n",
    "    else:\n",
    "        consecutives = []\n",
    "\n",
    "    if len(consecutives) == length:\n",
    "        break\n",
    "\n",
    "    else:\n",
    "        j += 1\n",
    "\n",
    "print(consecutives)\n",
    "\n",
    "end_time = datetime.now()\n",
    "\n",
    "time_diff = (end_time - start_time)\n",
    "execution_time = time_diff.total_seconds() * 1000\n",
    "\n",
    "print(execution_time)"
   ],
   "metadata": {
    "collapsed": false,
    "pycharm": {
     "name": "#%%\n"
    }
   }
  },
  {
   "cell_type": "code",
   "execution_count": 9,
   "outputs": [
    {
     "name": "stdout",
     "output_type": "stream",
     "text": [
      "[134043, 134044, 134045, 134046]\n",
      "1097.7920000000001\n"
     ]
    }
   ],
   "source": [
    "import math\n",
    "from datetime import datetime\n",
    "\n",
    "start_time = datetime.now()\n",
    "\n",
    "# Sieve of erathostenes\n",
    "def sieve_erat(n):\n",
    "    A = [True for i in range(n+1)]\n",
    "    A[0] = False\n",
    "    A[1] = False\n",
    "\n",
    "    for i in range(math.ceil(math.sqrt(n))):\n",
    "        if A[i] is True:\n",
    "            j = i * 2\n",
    "            while j <= n:\n",
    "                A[j] = False\n",
    "                j += i\n",
    "\n",
    "    P = [i for i in range(n) if A[i] == True]\n",
    "\n",
    "    return P\n",
    "\n",
    "length = 4\n",
    "\n",
    "possible_factors = sieve_erat(1000000)\n",
    "\n",
    "consecutives = []\n",
    "\n",
    "j = 1\n",
    "\n",
    "while j:\n",
    "\n",
    "    result = []\n",
    "    k = j\n",
    "    while k > 1:\n",
    "        for i in possible_factors:\n",
    "            if i < math.sqrt(k):\n",
    "                if k % i == 0:\n",
    "                    if i not in result:\n",
    "                        result.append(i)\n",
    "                    k = int(k/i)\n",
    "                    break\n",
    "            else:\n",
    "                if k != 1 and k not in result:\n",
    "                    result.append(k)\n",
    "                k = int(k/k)\n",
    "                break\n",
    "\n",
    "    if len(result) == length:\n",
    "        consecutives.append(j)\n",
    "    else:\n",
    "        consecutives = []\n",
    "\n",
    "    if len(consecutives) == length:\n",
    "        break\n",
    "\n",
    "    else:\n",
    "        j += 1\n",
    "\n",
    "print(consecutives)\n",
    "\n",
    "end_time = datetime.now()\n",
    "\n",
    "time_diff = (end_time - start_time)\n",
    "execution_time = time_diff.total_seconds() * 1000\n",
    "\n",
    "print(execution_time)"
   ],
   "metadata": {
    "collapsed": false,
    "pycharm": {
     "name": "#%%\n"
    }
   }
  },
  {
   "cell_type": "code",
   "execution_count": null,
   "outputs": [],
   "source": [],
   "metadata": {
    "collapsed": false,
    "pycharm": {
     "name": "#%%\n"
    }
   }
  }
 ],
 "metadata": {
  "kernelspec": {
   "display_name": "Python 3",
   "language": "python",
   "name": "python3"
  },
  "language_info": {
   "codemirror_mode": {
    "name": "ipython",
    "version": 2
   },
   "file_extension": ".py",
   "mimetype": "text/x-python",
   "name": "python",
   "nbconvert_exporter": "python",
   "pygments_lexer": "ipython2",
   "version": "2.7.6"
  }
 },
 "nbformat": 4,
 "nbformat_minor": 0
}