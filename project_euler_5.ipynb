{
 "cells": [
  {
   "cell_type": "markdown",
   "source": [
    "# Smallest multiple\n",
    "\n",
    "Problem 5\n",
    "2520 is the smallest number that can be divided by each of the numbers from 1 to 10 without any remainder.\n",
    "\n",
    "What is the smallest positive number that is evenly divisible by all of the numbers from 1 to 20?"
   ],
   "metadata": {
    "collapsed": false,
    "pycharm": {
     "name": "#%% md\n"
    }
   }
  },
  {
   "cell_type": "markdown",
   "source": [
    "We can do a brute force approach, trying every number till we find a number that satisfy the conditions."
   ],
   "metadata": {
    "collapsed": false,
    "pycharm": {
     "name": "#%% md\n"
    }
   }
  },
  {
   "cell_type": "code",
   "execution_count": 4,
   "outputs": [
    {
     "name": "stdout",
     "output_type": "stream",
     "text": [
      "20\n",
      "51473642\n",
      "12226.604\n"
     ]
    }
   ],
   "source": [
    "from datetime import datetime\n",
    "start_time = datetime.now()\n",
    "\n",
    "max_factor = 20\n",
    "n = max_factor\n",
    "it = 0\n",
    "\n",
    "while True:\n",
    "    check = True\n",
    "    for i in range(1, max_factor + 1):\n",
    "        it += 1\n",
    "        if n % i != 0:\n",
    "            check = False\n",
    "            break\n",
    "\n",
    "    if not check:\n",
    "        n += max_factor\n",
    "    else:\n",
    "        break\n",
    "\n",
    "print(max_factor)\n",
    "\n",
    "end_time = datetime.now()\n",
    "\n",
    "time_diff = (end_time - start_time)\n",
    "execution_time = time_diff.total_seconds() * 1000\n",
    "\n",
    "print(it)\n",
    "print(execution_time)"
   ],
   "metadata": {
    "collapsed": false,
    "pycharm": {
     "name": "#%%\n"
    }
   }
  },
  {
   "cell_type": "code",
   "execution_count": 5,
   "outputs": [
    {
     "name": "stdout",
     "output_type": "stream",
     "text": [
      "232792560\n",
      "13086422\n",
      "6611.634999999999\n"
     ]
    }
   ],
   "source": [
    "import math\n",
    "\n",
    "from datetime import datetime\n",
    "start_time = datetime.now()\n",
    "\n",
    "max_factor = 20\n",
    "n = max_factor\n",
    "it = 0\n",
    "\n",
    "min_factor = int(math.floor(max_factor / 2) + 1)\n",
    "\n",
    "while True:\n",
    "    check = True\n",
    "    for i in range(min_factor, max_factor + 1):\n",
    "        it += 1\n",
    "        if n % i != 0:\n",
    "            check = False\n",
    "            break\n",
    "\n",
    "    if not check:\n",
    "        n += max_factor\n",
    "    else:\n",
    "        break\n",
    "\n",
    "print(n)\n",
    "\n",
    "end_time = datetime.now()\n",
    "\n",
    "time_diff = (end_time - start_time)\n",
    "execution_time = time_diff.total_seconds() * 1000\n",
    "\n",
    "print(it)\n",
    "print(execution_time)"
   ],
   "metadata": {
    "collapsed": false,
    "pycharm": {
     "name": "#%%\n"
    }
   }
  },
  {
   "cell_type": "markdown",
   "source": [
    "But we can do a numerical approach that would make our calculation much faster. This approach would take the concepts of the least common multiple (LCM), the prime factorization and the fundamental theorem of Arithmetics.\n",
    "The smallest number that can be divided between every number between two integers, is also the LCM of all of this numbers. For example, the smallest number that could be divided by 1 , 2 and 3, is the LCM of 1, 2, and 3 (in this case would be 6).\n",
    "If we think about the Fundamental Theorem of Arithmetic, it says that: Any integer greater than 1 is either a prime number, or can be written as a unique product of prime numbers. Therefore, the number that we are searching, could be written as an unique product of prime numbers.\n",
    "<br>But, which one are those prime numbers in our case? Here is where the LCM make it appearence.\n",
    "The LCM is computed taking the highest power of every prime factor of every integer of the numbers that we are using to find the LCM and multplicate all of them.\n",
    "For example, if we say the LCM of every number between 1 and 10. We will have: $1$, $2$, $3$, $2^2$, $5$, $2\\cdot3$, $7$, $2^3$, $3^2$ and $2\\cdot5$. To calculate the LCM we take $1 \\cdot 2^3 \\cdot 3^2 \\cdot 5 \\cdot 7 = 2520$<br>\n",
    "Take notice that, in other words: This is the multiplication of every prime number p that is smaller or equal to 10, every one of them to the power of k, that make $p^k \\leq 10$<br>\n",
    "Therefore we can make a general case:\n",
    "M is divisible by all numbers from 1 to N iff M is equal to the product of all prime powers $p^k$, where $p \\leq N$, and k is the largest integer such that $p^k \\leq N$"
   ],
   "metadata": {
    "collapsed": false,
    "pycharm": {
     "name": "#%% md\n"
    }
   }
  },
  {
   "cell_type": "code",
   "execution_count": 6,
   "outputs": [
    {
     "name": "stdout",
     "output_type": "stream",
     "text": [
      "232792560\n",
      "0.5569999999999999\n"
     ]
    }
   ],
   "source": [
    "import math\n",
    "\n",
    "from datetime import datetime\n",
    "start_time = datetime.now()\n",
    "\n",
    "def is_prime(n: int) -> bool:\n",
    "    if n == 1:\n",
    "        return False\n",
    "    if n == 2 or n == 3:\n",
    "        return True\n",
    "\n",
    "    if n % 2 == 0 or n % 3 == 0:\n",
    "        return False\n",
    "\n",
    "    # All composites under 25 are multiples of 2 and 3. Therefore they are covered.\n",
    "    k = 5\n",
    "\n",
    "    while k <= math.floor(math.sqrt(n)):\n",
    "\n",
    "        # k=5 is 6k-1 (6 * 1 -1) and k + 2 = 7 (6 * 1 +1)\n",
    "        if n % k == 0 or n % (k + 2) == 0:\n",
    "            return False\n",
    "        # Now we check every 6 integers ((5,7), (11, 13), (17, 19)...)\n",
    "        k += 6\n",
    "    return True\n",
    "\n",
    "max_factor = 20\n",
    "factors= []\n",
    "n = 1\n",
    "\n",
    "for i in range(max_factor + 1):\n",
    "    if is_prime(i):\n",
    "        factors.append(i)\n",
    "\n",
    "for i in factors:\n",
    "    for j in range(1, max_factor):\n",
    "        it += 1\n",
    "        if i ** j > max_factor:\n",
    "            n *= i ** (j -1)\n",
    "            break\n",
    "        elif i ** j == max_factor:\n",
    "            n *= i ** j\n",
    "            break\n",
    "\n",
    "print(n)\n",
    "\n",
    "\n",
    "end_time = datetime.now()\n",
    "\n",
    "time_diff = (end_time - start_time)\n",
    "execution_time = time_diff.total_seconds() * 1000\n",
    "\n",
    "print(execution_time)"
   ],
   "metadata": {
    "collapsed": false,
    "pycharm": {
     "name": "#%%\n"
    }
   }
  },
  {
   "cell_type": "code",
   "execution_count": null,
   "outputs": [],
   "source": [],
   "metadata": {
    "collapsed": false,
    "pycharm": {
     "name": "#%%\n"
    }
   }
  }
 ],
 "metadata": {
  "kernelspec": {
   "display_name": "Python 3",
   "language": "python",
   "name": "python3"
  },
  "language_info": {
   "codemirror_mode": {
    "name": "ipython",
    "version": 2
   },
   "file_extension": ".py",
   "mimetype": "text/x-python",
   "name": "python",
   "nbconvert_exporter": "python",
   "pygments_lexer": "ipython2",
   "version": "2.7.6"
  }
 },
 "nbformat": 4,
 "nbformat_minor": 0
}