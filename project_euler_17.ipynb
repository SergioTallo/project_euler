{
 "cells": [
  {
   "cell_type": "markdown",
   "source": [
    "# Number letter counts\n",
    "\n",
    "Problem 17\n",
    "If the numbers 1 to 5 are written out in words: one, two, three, four, five, then there are 3 + 3 + 5 + 4 + 4 = 19 letters used in total.\n",
    "\n",
    "If all the numbers from 1 to 1000 (one thousand) inclusive were written out in words, how many letters would be used?\n",
    "\n",
    "\n",
    "NOTE: Do not count spaces or hyphens. For example, 342 (three hundred and forty-two) contains 23 letters and 115 (one hundred and fifteen) contains 20 letters. The use of \"and\" when writing out numbers is in compliance with British usage."
   ],
   "metadata": {
    "collapsed": false,
    "pycharm": {
     "name": "#%% md\n"
    }
   }
  },
  {
   "cell_type": "code",
   "execution_count": 175,
   "metadata": {
    "collapsed": true,
    "pycharm": {
     "name": "#%%\n"
    }
   },
   "outputs": [
    {
     "name": "stdout",
     "output_type": "stream",
     "text": [
      "one billion ten million \n",
      "1.224 miliseconds\n"
     ]
    }
   ],
   "source": [
    "from datetime import datetime\n",
    "start_time = datetime.now()\n",
    "\n",
    "import math\n",
    "\n",
    "ones = ['', 'one', 'two', 'three', 'four', 'five', 'six', 'seven', 'eight', 'nine',]\n",
    "tens = ['', 'twenty', 'thirty', 'forty', 'fifty', 'sixty', 'seventy', 'eighty', 'ninety']\n",
    "between_ten_twenty = ['ten', 'eleven', 'twelve', 'thirteen', 'fourteen', 'fifteen', 'sixteen', 'seventeen', 'eighteen', 'nineteen']\n",
    "\n",
    "def less_hundred(n):\n",
    "    if n < 10:\n",
    "        return ones[n]\n",
    "    if 10 <= n < 20:\n",
    "        return between_ten_twenty[n - 10]\n",
    "    if n >= n:\n",
    "        return tens[math.floor(n / 10) -1] + ' ' + ones[int(n % 10)]\n",
    "\n",
    "def less_thousand(n):\n",
    "    if n < 100:\n",
    "        return less_hundred(n)\n",
    "    else:\n",
    "        if n % 100 == 0:\n",
    "            return ones[math.floor(n / 100)] + ' hundred'\n",
    "        else:\n",
    "            return ones[math.floor(n / 100)] +' hundred and '+ less_hundred(n % 100)\n",
    "\n",
    "def less_million(n):\n",
    "    if n < 1000:\n",
    "        return less_thousand(n)\n",
    "    else:\n",
    "        if n < 10000:\n",
    "            if n % 1000 == 0:\n",
    "                return ones[math.floor(n / 1000)] +' thousand'\n",
    "            else:\n",
    "                return ones[math.floor(n / 1000)] +' thousand '+ less_thousand(n % 1000)\n",
    "        else:\n",
    "            if n < 20000:\n",
    "                return between_ten_twenty[math.floor(n / 1000) % 10] + ' thousand ' + less_thousand(n % 1000)\n",
    "            else:\n",
    "                return less_thousand(math.floor(n / 1000)) + ' thousand ' + less_thousand(n % 1000)\n",
    "\n",
    "def less_billion(n):\n",
    "    if n < 1000000:\n",
    "        return less_million(n)\n",
    "    else:\n",
    "        if n < 10000000:\n",
    "            if n % 1000000 == 0:\n",
    "                print(math.floor(n / 1000000))\n",
    "                return ones[math.floor(n / 1000000)] +' million'\n",
    "            else:\n",
    "                return ones[math.floor(n / 1000000)] +' million '+ less_million(n % 1000000)\n",
    "        else:\n",
    "            if n < 20000000:\n",
    "                return between_ten_twenty[math.floor(n / 1000000) % 10] + ' million ' + less_million(n % 1000000)\n",
    "            else:\n",
    "                return less_million(math.floor(n / 1000000)) + ' million ' + less_million(n % 1000000)\n",
    "\n",
    "def number(n):\n",
    "    assert n < 1000000000000000\n",
    "    if n < 1000000000:\n",
    "        return less_billion(n)\n",
    "    else:\n",
    "        if n < 10000000000:\n",
    "            if n % 1000000000 == 0:\n",
    "                return ones[math.floor(n / 1000000000)] +' billion'\n",
    "            else:\n",
    "                return ones[math.floor(n / 1000000000)] +' billion '+ less_billion(n % 1000000000)\n",
    "        else:\n",
    "            if n < 20000000000:\n",
    "                return between_ten_twenty[math.floor(n / 1000000000) % 10] + ' billion ' + less_billion(n % 1000000000)\n",
    "            else:\n",
    "                return less_billion(math.floor(n / 1000000000)) + ' billion ' + less_billion(n % 1000000000)\n",
    "\n",
    "i = 1010000000\n",
    "\n",
    "print(number(i))\n",
    "\n",
    "end_time = datetime.now()\n",
    "time_diff = (end_time - start_time)\n",
    "execution_time = time_diff.total_seconds() * 1000\n",
    "\n",
    "print(f'{execution_time} miliseconds')"
   ]
  },
  {
   "cell_type": "markdown",
   "source": [],
   "metadata": {
    "collapsed": false,
    "pycharm": {
     "name": "#%% md\n"
    }
   }
  },
  {
   "cell_type": "markdown",
   "source": [],
   "metadata": {
    "collapsed": false,
    "pycharm": {
     "name": "#%% md\n"
    }
   }
  }
 ],
 "metadata": {
  "kernelspec": {
   "display_name": "Python 3",
   "language": "python",
   "name": "python3"
  },
  "language_info": {
   "codemirror_mode": {
    "name": "ipython",
    "version": 2
   },
   "file_extension": ".py",
   "mimetype": "text/x-python",
   "name": "python",
   "nbconvert_exporter": "python",
   "pygments_lexer": "ipython2",
   "version": "2.7.6"
  }
 },
 "nbformat": 4,
 "nbformat_minor": 0
}