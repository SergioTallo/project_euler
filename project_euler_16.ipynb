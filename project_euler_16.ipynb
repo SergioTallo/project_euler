{
 "cells": [
  {
   "cell_type": "markdown",
   "source": [
    "# Power digit sum\n",
    "\n",
    "Problem 16\n",
    "$2^15 = 32768$ and the sum of its digits is $3 + 2 + 7 + 6 + 8 = 26$.\n",
    "\n",
    "What is the sum of the digits of the number $2^1000$?"
   ],
   "metadata": {
    "collapsed": false,
    "pycharm": {
     "name": "#%% md\n"
    }
   }
  },
  {
   "cell_type": "code",
   "execution_count": 32,
   "outputs": [
    {
     "name": "stdout",
     "output_type": "stream",
     "text": [
      "135178\n",
      "34.465 miliseconds\n"
     ]
    }
   ],
   "source": [
    "from datetime import datetime\n",
    "start_time = datetime.now()\n",
    "\n",
    "n = 2\n",
    "e = 100000\n",
    "\n",
    "sum_ = 0\n",
    "\n",
    "for i in str(n ** e):\n",
    "    sum_ += int(i)\n",
    "\n",
    "print(sum_)\n",
    "\n",
    "end_time = datetime.now()\n",
    "time_diff = (end_time - start_time)\n",
    "execution_time = time_diff.total_seconds() * 1000\n",
    "\n",
    "print(f'{execution_time} miliseconds')"
   ],
   "metadata": {
    "collapsed": false,
    "pycharm": {
     "name": "#%%\n"
    }
   }
  },
  {
   "cell_type": "code",
   "execution_count": null,
   "outputs": [],
   "source": [],
   "metadata": {
    "collapsed": false,
    "pycharm": {
     "name": "#%%\n"
    }
   }
  }
 ],
 "metadata": {
  "kernelspec": {
   "display_name": "Python 3",
   "language": "python",
   "name": "python3"
  },
  "language_info": {
   "codemirror_mode": {
    "name": "ipython",
    "version": 2
   },
   "file_extension": ".py",
   "mimetype": "text/x-python",
   "name": "python",
   "nbconvert_exporter": "python",
   "pygments_lexer": "ipython2",
   "version": "2.7.6"
  }
 },
 "nbformat": 4,
 "nbformat_minor": 0
}