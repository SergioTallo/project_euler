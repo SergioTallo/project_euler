{
 "cells": [
  {
   "cell_type": "markdown",
   "source": [
    "# Largest palindrome product\n",
    "\n",
    "Problem 4\n",
    "\n",
    "A palindromic number reads the same both ways. The largest palindrome made from the product of two 2-digit numbers is 9009 = 91 × 99.\n",
    "\n",
    "Find the largest palindrome made from the product of two 3-digit numbers."
   ],
   "metadata": {
    "collapsed": false,
    "pycharm": {
     "name": "#%% md\n"
    }
   }
  },
  {
   "cell_type": "code",
   "execution_count": 214,
   "outputs": [
    {
     "name": "stdout",
     "output_type": "stream",
     "text": [
      "906609\n",
      "803\n",
      "1.8359999999999999\n"
     ]
    }
   ],
   "source": [
    "import math\n",
    "\n",
    "from datetime import datetime\n",
    "start_time = datetime.now()\n",
    "\n",
    "def is_palindrome(x):\n",
    "    n = x\n",
    "    rev = 0\n",
    "\n",
    "    while n > 0:\n",
    "        rev = (rev * 10) + (n % 10)\n",
    "        n = math.floor(n/10)\n",
    "\n",
    "    if rev == x:\n",
    "        return True\n",
    "    else:\n",
    "        return False\n",
    "\n",
    "big = 0\n",
    "it = 0\n",
    "\n",
    "for i in reversed(range(100, 1000)):\n",
    "    if i * 990 < big:\n",
    "        break\n",
    "    for j in reversed(range(99, 991, 11)):\n",
    "        it += 1\n",
    "        if i * j > big:\n",
    "            if is_palindrome(i*j):\n",
    "                if i * j > big:\n",
    "                    big = i * j\n",
    "        else:\n",
    "            break\n",
    "\n",
    "print(big)\n",
    "print(it)\n",
    "\n",
    "end_time = datetime.now()\n",
    "\n",
    "time_diff = (end_time - start_time)\n",
    "execution_time = time_diff.total_seconds() * 1000\n",
    "\n",
    "print(execution_time)"
   ],
   "metadata": {
    "collapsed": false,
    "pycharm": {
     "name": "#%%\n"
    }
   }
  },
  {
   "cell_type": "code",
   "execution_count": 214,
   "outputs": [],
   "source": [],
   "metadata": {
    "collapsed": false,
    "pycharm": {
     "name": "#%%\n"
    }
   }
  },
  {
   "cell_type": "code",
   "execution_count": null,
   "outputs": [],
   "source": [],
   "metadata": {
    "collapsed": false,
    "pycharm": {
     "name": "#%%\n"
    }
   }
  }
 ],
 "metadata": {
  "kernelspec": {
   "display_name": "Python 3",
   "language": "python",
   "name": "python3"
  },
  "language_info": {
   "codemirror_mode": {
    "name": "ipython",
    "version": 2
   },
   "file_extension": ".py",
   "mimetype": "text/x-python",
   "name": "python",
   "nbconvert_exporter": "python",
   "pygments_lexer": "ipython2",
   "version": "2.7.6"
  }
 },
 "nbformat": 4,
 "nbformat_minor": 0
}