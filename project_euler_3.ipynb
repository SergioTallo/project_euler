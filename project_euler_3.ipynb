{
 "cells": [
  {
   "cell_type": "markdown",
   "source": [
    "# Largest prime factor\n",
    "\n",
    "Problem 3\n",
    "The prime factors of 13195 are 5, 7, 13 and 29.\n",
    "\n",
    "What is the largest prime factor of the number 600851475143 ?"
   ],
   "metadata": {
    "collapsed": false,
    "pycharm": {
     "name": "#%% md\n"
    }
   }
  },
  {
   "cell_type": "code",
   "execution_count": 38,
   "outputs": [
    {
     "name": "stdout",
     "output_type": "stream",
     "text": [
      "6857\n"
     ]
    }
   ],
   "source": [
    "import math\n",
    "\n",
    "n = 600851475143\n",
    "\n",
    "bigger = 1\n",
    "\n",
    "while n > 1:\n",
    "    if n % 2 == 0:\n",
    "        if bigger < 2:\n",
    "            bigger = 2\n",
    "        n = n / 2\n",
    "        continue\n",
    "\n",
    "    i = 3\n",
    "\n",
    "    while i <= n:\n",
    "        if n % i == 0:\n",
    "            if bigger < i:\n",
    "                bigger = i\n",
    "            n = n / i\n",
    "            break\n",
    "        i += 2\n",
    "        if i > math.sqrt(n):\n",
    "            if bigger < n:\n",
    "                bigger = n\n",
    "                n = n/n\n",
    "                break\n",
    "\n",
    "print(int(bigger))"
   ],
   "metadata": {
    "collapsed": false,
    "pycharm": {
     "name": "#%%\n"
    }
   }
  },
  {
   "cell_type": "code",
   "execution_count": null,
   "outputs": [],
   "source": [],
   "metadata": {
    "collapsed": false,
    "pycharm": {
     "name": "#%%\n"
    }
   }
  }
 ],
 "metadata": {
  "kernelspec": {
   "display_name": "Python 3",
   "language": "python",
   "name": "python3"
  },
  "language_info": {
   "codemirror_mode": {
    "name": "ipython",
    "version": 2
   },
   "file_extension": ".py",
   "mimetype": "text/x-python",
   "name": "python",
   "nbconvert_exporter": "python",
   "pygments_lexer": "ipython2",
   "version": "2.7.6"
  }
 },
 "nbformat": 4,
 "nbformat_minor": 0
}