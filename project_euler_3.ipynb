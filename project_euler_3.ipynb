{
 "cells": [
  {
   "cell_type": "markdown",
   "source": [
    "# Largest prime factor\n",
    "\n",
    "Problem 3\n",
    "The prime factors of 13195 are 5, 7, 13 and 29.\n",
    "\n",
    "What is the largest prime factor of the number 600851475143?\n",
    "\n",
    "Step 1: Set largest factor to 1.\n",
    "Step 2: Check if n is bigger than 1.\n",
    "Step 3: If No: finish the algorithm and return largest factor\n",
    "\n",
    "Step 4: Check if n is a multiple of 2.\n",
    "    Step 5: If yes. Set largest factor to 2 if largest factor is smaller than 2. set new n = n /2. Go to 2.\n",
    "    Step 6: Else: Check if n is a multiple of 3.\n",
    "        Step 7: If yes. Set largest factor to 3 if largest factor is smaller than 3. set new n = n /3. Go to 2.\n",
    "        Step 8: Else: Set i to 5.\n",
    "        Step 9: Check if n is a multiple of i.\n",
    "            Step 10: If yes. Set largest factor to i if largest factor is smaller than i. set new n = n /i. Go to 2.\n",
    "            Step 11: Else: Check if n is a multiple of i + 2.\n",
    "                Step 12: If yes. Set largest factor to i + 2 if largest factor is smaller than i + 2. set new n = n /i +2. Go to 2.\n",
    "                Step 15: Else: set i to i + 6\n",
    "                Step 13: Check if i is bigger than $\\sqrt{n}$\n",
    "                    Step 14: If yes: Set largest factor to n if largest factor is smaller than i. set new n = 1. Go to 2.\n",
    "                    Step 16: Else: Go to 9\n",
    "\n",
    "In the worst case this algorithm has an $0(\\frac{\\sqrt{n}}{3})$ which is acceptable"
   ],
   "metadata": {
    "collapsed": false,
    "pycharm": {
     "name": "#%% md\n"
    }
   }
  },
  {
   "cell_type": "code",
   "execution_count": 20,
   "outputs": [
    {
     "name": "stdout",
     "output_type": "stream",
     "text": [
      "6857\n",
      "1.259\n"
     ]
    }
   ],
   "source": [
    "import math\n",
    "from datetime import datetime\n",
    "\n",
    "start_time = datetime.now()\n",
    "\n",
    "n = 600851475143\n",
    "\n",
    "bigger = 1\n",
    "\n",
    "while n > 1:\n",
    "    if n % 2 == 0:\n",
    "        if bigger < 2:\n",
    "            bigger = 2\n",
    "        n = n / 2\n",
    "        continue\n",
    "\n",
    "    if n % 3 == 0:\n",
    "        if bigger < 3:\n",
    "            bigger = 3\n",
    "        n = n / 3\n",
    "        continue\n",
    "\n",
    "    i = 5\n",
    "\n",
    "    while i <= n:\n",
    "        if n % i == 0:\n",
    "            if bigger < i:\n",
    "                bigger = i\n",
    "            n = n / i\n",
    "            break\n",
    "        elif n % (i +2) == 0:\n",
    "            if bigger < i + 2:\n",
    "                bigger = i + 2\n",
    "            n = n / (i +2)\n",
    "            break\n",
    "        i += 6\n",
    "\n",
    "        if i > math.sqrt(n):\n",
    "            if bigger < n:\n",
    "                bigger = n\n",
    "                n = 1\n",
    "                break\n",
    "\n",
    "print(int(bigger))\n",
    "\n",
    "\n",
    "end_time = datetime.now()\n",
    "\n",
    "time_diff = (end_time - start_time)\n",
    "execution_time = time_diff.total_seconds() * 1000\n",
    "\n",
    "print(execution_time)"
   ],
   "metadata": {
    "collapsed": false,
    "pycharm": {
     "name": "#%%\n"
    }
   }
  },
  {
   "cell_type": "code",
   "execution_count": null,
   "outputs": [],
   "source": [],
   "metadata": {
    "collapsed": false,
    "pycharm": {
     "name": "#%%\n"
    }
   }
  }
 ],
 "metadata": {
  "kernelspec": {
   "display_name": "Python 3",
   "language": "python",
   "name": "python3"
  },
  "language_info": {
   "codemirror_mode": {
    "name": "ipython",
    "version": 2
   },
   "file_extension": ".py",
   "mimetype": "text/x-python",
   "name": "python",
   "nbconvert_exporter": "python",
   "pygments_lexer": "ipython2",
   "version": "2.7.6"
  }
 },
 "nbformat": 4,
 "nbformat_minor": 0
}