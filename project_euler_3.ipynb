{
 "cells": [
  {
   "cell_type": "markdown",
   "source": [
    "# Largest prime factor\n",
    "\n",
    "Problem 3\n",
    "The prime factors of 13195 are 5, 7, 13 and 29.\n",
    "\n",
    "What is the largest prime factor of the number 600851475143?\n",
    "\n",
    "Step 1: Set largest factor to 1.\n",
    "Step 2: Check if n is bigger than 1.\n",
    "Step 3: If No: finish the algorithm and return largest factor\n",
    "Step 4: Else: Set i to 2\n",
    "Step 5: If n is a multiple of i.\n",
    "Step 6: If yes. Set largest factor to i if largest factor is smaller than i. set new n = n /2. Go to 2.\n",
    "Step 7: Else: Set i to 3.\n",
    "Step 8: Check if n is a multiple of i.\n",
    "Step 9: If yes. Set largest factor to i if largest factor is smaller than i. set new n = n /i. Go to 2.\n",
    "Step 10: Else: Set i to i + 2.\n",
    "Step 11: Check if i is bigger than $\\sqrt{n}$\n",
    "Step 12: If yes: Set largest factor to n if largest factor is smaller than i. set new n = 1. Go to 2.\n",
    "Step 13: If not: Go to 8\n",
    "\n",
    "In the worst case this algorithm has an $0(\\sqrt{n})$ which is acceptable"
   ],
   "metadata": {
    "collapsed": false,
    "pycharm": {
     "name": "#%% md\n"
    }
   }
  },
  {
   "cell_type": "code",
   "execution_count": 39,
   "outputs": [
    {
     "name": "stdout",
     "output_type": "stream",
     "text": [
      "6857\n"
     ]
    }
   ],
   "source": [
    "import math\n",
    "\n",
    "n = 600851475143\n",
    "\n",
    "bigger = 1\n",
    "\n",
    "while n > 1:\n",
    "    if n % 2 == 0:\n",
    "        if bigger < 2:\n",
    "            bigger = 2\n",
    "        n = n / 2\n",
    "        continue\n",
    "\n",
    "    i = 3\n",
    "\n",
    "    while i <= n:\n",
    "        if n % i == 0:\n",
    "            if bigger < i:\n",
    "                bigger = i\n",
    "            n = n / i\n",
    "            break\n",
    "        i += 2\n",
    "        if i > math.sqrt(n):\n",
    "            if bigger < n:\n",
    "                bigger = n\n",
    "                n = 1\n",
    "                break\n",
    "\n",
    "print(int(bigger))"
   ],
   "metadata": {
    "collapsed": false,
    "pycharm": {
     "name": "#%%\n"
    }
   }
  },
  {
   "cell_type": "code",
   "execution_count": null,
   "outputs": [],
   "source": [],
   "metadata": {
    "collapsed": false,
    "pycharm": {
     "name": "#%%\n"
    }
   }
  }
 ],
 "metadata": {
  "kernelspec": {
   "display_name": "Python 3",
   "language": "python",
   "name": "python3"
  },
  "language_info": {
   "codemirror_mode": {
    "name": "ipython",
    "version": 2
   },
   "file_extension": ".py",
   "mimetype": "text/x-python",
   "name": "python",
   "nbconvert_exporter": "python",
   "pygments_lexer": "ipython2",
   "version": "2.7.6"
  }
 },
 "nbformat": 4,
 "nbformat_minor": 0
}