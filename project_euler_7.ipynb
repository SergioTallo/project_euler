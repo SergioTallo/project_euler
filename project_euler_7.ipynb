{
 "cells": [
  {
   "cell_type": "markdown",
   "source": [
    "# 10001st prime\n",
    "\n",
    "Problem 7\n",
    "By listing the first six prime numbers: 2, 3, 5, 7, 11, and 13, we can see that the 6th prime is 13.\n",
    "\n",
    "What is the 10 001st prime number?"
   ],
   "metadata": {
    "collapsed": false,
    "pycharm": {
     "name": "#%% md\n"
    }
   }
  },
  {
   "cell_type": "code",
   "execution_count": 197,
   "outputs": [
    {
     "name": "stdout",
     "output_type": "stream",
     "text": [
      "104743\n",
      "52371\n",
      "165.53699999999998\n"
     ]
    }
   ],
   "source": [
    "import math\n",
    "\n",
    "from datetime import datetime\n",
    "start_time = datetime.now()\n",
    "\n",
    "def is_prime(n: int) -> bool:\n",
    "\n",
    "    if n == 1:\n",
    "        return False\n",
    "    if n == 2 or n == 3:\n",
    "        return True\n",
    "\n",
    "    if n % 2 == 0 or n % 3 == 0:\n",
    "        return False\n",
    "\n",
    "    # All composites under 25 are multiples of 2 and 3. Therefore they are covered.\n",
    "    k = 5\n",
    "\n",
    "    while k <= math.floor(math.sqrt(n)):\n",
    "\n",
    "        # k=5 is 6k-1 (6 * 1 -1) and k + 2 = 7 (6 * 1 +1)\n",
    "        if n % k == 0 or n % (k + 2) == 0:\n",
    "            return False\n",
    "        # Now we check every 6 integers ((5,7), (11, 13), (17, 19)...)\n",
    "        k += 6\n",
    "\n",
    "    return True\n",
    "\n",
    "counter = 1\n",
    "i = 1\n",
    "it = 0\n",
    "\n",
    "while counter < 10001:\n",
    "\n",
    "    it += 1\n",
    "    i += 2\n",
    "\n",
    "    if is_prime(i) is True:\n",
    "        counter += 1\n",
    "\n",
    "\n",
    "print(i)\n",
    "print(it)\n",
    "\n",
    "end_time = datetime.now()\n",
    "\n",
    "time_diff = (end_time - start_time)\n",
    "execution_time = time_diff.total_seconds() * 1000\n",
    "\n",
    "print(execution_time)"
   ],
   "metadata": {
    "collapsed": false,
    "pycharm": {
     "name": "#%%\n"
    }
   }
  },
  {
   "cell_type": "code",
   "execution_count": 196,
   "outputs": [
    {
     "name": "stdout",
     "output_type": "stream",
     "text": [
      "104743\n",
      "34912\n",
      "152.99099999999999\n"
     ]
    }
   ],
   "source": [
    "import math\n",
    "\n",
    "from datetime import datetime\n",
    "start_time = datetime.now()\n",
    "\n",
    "def is_prime(n: int) -> bool:\n",
    "\n",
    "    if n % 3 == 0:\n",
    "        return False\n",
    "\n",
    "    # All composites under 25 are multiples of 2 and 3. Therefore they are covered.\n",
    "    k = 5\n",
    "\n",
    "    while k <= math.floor(math.sqrt(n)):\n",
    "        # k=5 is 6k-1 (6 * 1 -1) and k + 2 = 7 (6 * 1 +1)\n",
    "        if n % k == 0 or n % (k + 2) == 0:\n",
    "            return False\n",
    "        # Now we check every 6 integers ((5,7), (11, 13), (17, 19)...)\n",
    "        k += 6\n",
    "\n",
    "    return True\n",
    "\n",
    "n = 10001\n",
    "i = 11\n",
    "it = 0\n",
    "count = 4\n",
    "\n",
    "while True:\n",
    "    if i % 5 == 0:\n",
    "        it += 1\n",
    "        i += 2\n",
    "    else:\n",
    "        it += 1\n",
    "        if is_prime(i):\n",
    "            count += 1\n",
    "        if count == n:\n",
    "            break\n",
    "\n",
    "        i += 2\n",
    "\n",
    "    if i % 5 == 0:\n",
    "        i += 4\n",
    "        it += 1\n",
    "    else:\n",
    "        it += 1\n",
    "        if is_prime(i):\n",
    "            count += 1\n",
    "\n",
    "        if count == n:\n",
    "            break\n",
    "\n",
    "        i += 4\n",
    "\n",
    "print(i)\n",
    "print(it)\n",
    "end_time = datetime.now()\n",
    "\n",
    "time_diff = (end_time - start_time)\n",
    "execution_time = time_diff.total_seconds() * 1000\n",
    "\n",
    "print(execution_time)"
   ],
   "metadata": {
    "collapsed": false,
    "pycharm": {
     "name": "#%%\n"
    }
   }
  },
  {
   "cell_type": "code",
   "execution_count": null,
   "outputs": [],
   "source": [],
   "metadata": {
    "collapsed": false,
    "pycharm": {
     "name": "#%%\n"
    }
   }
  }
 ],
 "metadata": {
  "kernelspec": {
   "display_name": "Python 3",
   "language": "python",
   "name": "python3"
  },
  "language_info": {
   "codemirror_mode": {
    "name": "ipython",
    "version": 2
   },
   "file_extension": ".py",
   "mimetype": "text/x-python",
   "name": "python",
   "nbconvert_exporter": "python",
   "pygments_lexer": "ipython2",
   "version": "2.7.6"
  }
 },
 "nbformat": 4,
 "nbformat_minor": 0
}