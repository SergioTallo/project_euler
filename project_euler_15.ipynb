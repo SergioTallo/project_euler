{
 "cells": [
  {
   "cell_type": "markdown",
   "source": [
    "# Lattice paths\n",
    "\n",
    "Problem 15\n",
    "Starting in the top left corner of a 2×2 grid, and only being able to move to the right and down, there are exactly 6 routes to the bottom right corner.\n",
    "\n",
    "\n",
    "How many such routes are there through a 20×20 grid?"
   ],
   "metadata": {
    "collapsed": false,
    "pycharm": {
     "name": "#%% md\n"
    }
   }
  },
  {
   "cell_type": "code",
   "execution_count": null,
   "outputs": [],
   "source": [
    "from datetime import datetime\n",
    "start_time = datetime.now()\n",
    "\n",
    "paths = []\n",
    "grid_len = 20\n",
    "grid = []\n",
    "count = 1\n",
    "\n",
    "for i in range(grid_len +1):\n",
    "    grid_row = []\n",
    "    for j in range(grid_len +1):\n",
    "        grid_row.append(count)\n",
    "        count += 1\n",
    "    grid.append(grid_row)\n",
    "\n",
    "end_point = max(map(max, grid))\n",
    "\n",
    "route = ''\n",
    "\n",
    "def visit(grid, i, j, route):\n",
    "\n",
    "    route += str(grid[i][j])\n",
    "\n",
    "    if grid[i][j] == end_point:\n",
    "        paths.append(route)\n",
    "\n",
    "    if i < grid_len:\n",
    "        visit(grid, i+1, j, route)\n",
    "\n",
    "    if j < grid_len:\n",
    "        visit(grid, i, j+1, route)\n",
    "\n",
    "visit(grid, 0, 0, route)\n",
    "\n",
    "print(len(paths))\n",
    "\n",
    "end_time = datetime.now()\n",
    "time_diff = (end_time - start_time)\n",
    "execution_time = round(time_diff.total_seconds() * 1000, 0)\n",
    "\n",
    "print(f'{execution_time} miliseconds')"
   ],
   "metadata": {
    "collapsed": false,
    "pycharm": {
     "name": "#%%\n",
     "is_executing": true
    }
   }
  },
  {
   "cell_type": "code",
   "execution_count": 127,
   "outputs": [
    {
     "name": "stdout",
     "output_type": "stream",
     "text": [
      "2048151626989489714335162502980825044396424887981397033820382637671748186202083755828932994182610206201464766319998023692415481798004524792018047549769261578563012896634320647148511523952516512277685886115395462561479073786684641544445336176137700738556738145896300713065104559595144798887462063687185145518285511731662762536637730846829322553890497438594814317550307837964443708100851637248274627914170166198837648408435414308177859470377465651884755146807496946749238030331018187232980096685674585602525499101181135253534658887941966653674904511306110096311906270342502293155911108976733963991149120\n",
      "691.0269999999999 miliseconds\n"
     ]
    }
   ],
   "source": [
    "from datetime import datetime\n",
    "start_time = datetime.now()\n",
    "\n",
    "paths = []\n",
    "grid_len = 1000\n",
    "grid = []\n",
    "\n",
    "for i in range(grid_len + 1):\n",
    "    grid_row = []\n",
    "    for j in range(grid_len + 1):\n",
    "        grid_row.append(0)\n",
    "\n",
    "    grid.append(grid_row)\n",
    "\n",
    "grid[0][0] = 1\n",
    "\n",
    "for i in range(len(grid)):\n",
    "    for j in range(len(grid[i])):\n",
    "        if (i - 1) >= 0:\n",
    "            grid[i][j] += grid[i - 1][j]\n",
    "        if (j - 1) >= 0:\n",
    "            grid[i][j] += grid[i][j - 1]\n",
    "\n",
    "print(grid[-1][-1])\n",
    "\n",
    "end_time = datetime.now()\n",
    "time_diff = (end_time - start_time)\n",
    "execution_time = time_diff.total_seconds() * 1000\n",
    "\n",
    "print(f'{execution_time} miliseconds')"
   ],
   "metadata": {
    "collapsed": false,
    "pycharm": {
     "name": "#%%\n"
    }
   }
  },
  {
   "cell_type": "code",
   "execution_count": 135,
   "outputs": [
    {
     "name": "stdout",
     "output_type": "stream",
     "text": [
      "2048151626989489714335162502980825044396424887981397033820382637671748186202083755828932994182610206201464766319998023692415481798004524792018047549769261578563012896634320647148511523952516512277685886115395462561479073786684641544445336176137700738556738145896300713065104559595144798887462063687185145518285511731662762536637730846829322553890497438594814317550307837964443708100851637248274627914170166198837648408435414308177859470377465651884755146807496946749238030331018187232980096685674585602525499101181135253534658887941966653674904511306110096311906270342502293155911108976733963991149120\n",
      "5.8389999999999995 miliseconds\n"
     ]
    }
   ],
   "source": [
    "from datetime import datetime\n",
    "start_time = datetime.now()\n",
    "\n",
    "n = 1000\n",
    "\n",
    "def fact(n):\n",
    "    fact = 1\n",
    "    for i in range(1, n +1):\n",
    "        fact *= i\n",
    "    return fact\n",
    "\n",
    "num_paths = fact((n * 2)) // (fact(n) ** 2)\n",
    "\n",
    "print(num_paths)\n",
    "\n",
    "end_time = datetime.now()\n",
    "time_diff = (end_time - start_time)\n",
    "execution_time = time_diff.total_seconds() * 1000\n",
    "\n",
    "print(f'{execution_time} miliseconds')"
   ],
   "metadata": {
    "collapsed": false,
    "pycharm": {
     "name": "#%%\n"
    }
   }
  },
  {
   "cell_type": "code",
   "execution_count": 136,
   "outputs": [
    {
     "name": "stdout",
     "output_type": "stream",
     "text": [
      "2048151626989489714335162502980825044396424887981397033820382637671748186202083755828932994182610206201464766319998023692415481798004524792018047549769261578563012896634320647148511523952516512277685886115395462561479073786684641544445336176137700738556738145896300713065104559595144798887462063687185145518285511731662762536637730846829322553890497438594814317550307837964443708100851637248274627914170166198837648408435414308177859470377465651884755146807496946749238030331018187232980096685674585602525499101181135253534658887941966653674904511306110096311906270342502293155911108976733963991149120\n",
      "3.561 miliseconds\n"
     ]
    }
   ],
   "source": [
    "from datetime import datetime\n",
    "start_time = datetime.now()\n",
    "\n",
    "n = 1000\n",
    "\n",
    "def fact(n, stop):\n",
    "    fact = 1\n",
    "    for i in range(stop, n + 1):\n",
    "        fact *= i\n",
    "    return fact\n",
    "\n",
    "num_paths = fact((n * 2), n + 1) // (fact(n , 1))\n",
    "\n",
    "print(num_paths)\n",
    "\n",
    "end_time = datetime.now()\n",
    "time_diff = (end_time - start_time)\n",
    "execution_time = time_diff.total_seconds() * 1000\n",
    "\n",
    "print(f'{execution_time} miliseconds')"
   ],
   "metadata": {
    "collapsed": false,
    "pycharm": {
     "name": "#%%\n"
    }
   }
  },
  {
   "cell_type": "code",
   "execution_count": 145,
   "outputs": [
    {
     "name": "stdout",
     "output_type": "stream",
     "text": [
      "2048151626989489714335162502980825044396424887981397033820382637671748186202083755828932994182610206201464766319998023692415481798004524792018047549769261578563012896634320647148511523952516512277685886115395462561479073786684641544445336176137700738556738145896300713065104559595144798887462063687185145518285511731662762536637730846829322553890497438594814317550307837964443708100851637248274627914170166198837648408435414308177859470377465651884755146807496946749238030331018187232980096685674585602525499101181135253534658887941966653674904511306110096311906270342502293155911108976733963991149120\n",
      "1.778 miliseconds\n"
     ]
    }
   ],
   "source": [
    "import math\n",
    "\n",
    "from datetime import datetime\n",
    "start_time = datetime.now()\n",
    "\n",
    "n_x = 1000\n",
    "n_y = 1000\n",
    "\n",
    "num_paths = math.comb(n_x + n_y, n_x)\n",
    "\n",
    "print(num_paths)\n",
    "\n",
    "end_time = datetime.now()\n",
    "time_diff = (end_time - start_time)\n",
    "execution_time = time_diff.total_seconds() * 1000\n",
    "\n",
    "print(f'{execution_time} miliseconds')"
   ],
   "metadata": {
    "collapsed": false,
    "pycharm": {
     "name": "#%%\n"
    }
   }
  },
  {
   "cell_type": "code",
   "execution_count": null,
   "outputs": [],
   "source": [],
   "metadata": {
    "collapsed": false,
    "pycharm": {
     "name": "#%%\n"
    }
   }
  }
 ],
 "metadata": {
  "kernelspec": {
   "display_name": "Python 3",
   "language": "python",
   "name": "python3"
  },
  "language_info": {
   "codemirror_mode": {
    "name": "ipython",
    "version": 2
   },
   "file_extension": ".py",
   "mimetype": "text/x-python",
   "name": "python",
   "nbconvert_exporter": "python",
   "pygments_lexer": "ipython2",
   "version": "2.7.6"
  }
 },
 "nbformat": 4,
 "nbformat_minor": 0
}