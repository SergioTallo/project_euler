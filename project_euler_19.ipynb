{
 "cells": [
  {
   "cell_type": "markdown",
   "source": [
    "# Counting Sundays\n",
    "\n",
    "Problem 19\n",
    "You are given the following information, but you may prefer to do some research for yourself.\n",
    "\n",
    "1 Jan 1900 was a Monday.\n",
    "Thirty days has September,\n",
    "April, June and November.\n",
    "All the rest have thirty-one,\n",
    "Saving February alone,\n",
    "Which has twenty-eight, rain or shine.\n",
    "And on leap years, twenty-nine.\n",
    "A leap year occurs on any year evenly divisible by 4, but not on a century unless it is divisible by 400.\n",
    "How many Sundays fell on the first of the month during the twentieth century (1 Jan 1901 to 31 Dec 2000)?"
   ],
   "metadata": {
    "collapsed": false,
    "pycharm": {
     "name": "#%% md\n"
    }
   }
  },
  {
   "cell_type": "code",
   "execution_count": 12,
   "outputs": [
    {
     "name": "stdout",
     "output_type": "stream",
     "text": [
      "171\n",
      "2.007 miliseconds\n"
     ]
    }
   ],
   "source": [
    "from datetime import datetime\n",
    "start_time = datetime.now()\n",
    "\n",
    "count = 0\n",
    "day_nr = 1\n",
    "jahr = 1900\n",
    "\n",
    "month = 1\n",
    "while jahr <= 2000:\n",
    "    for month in range(1, 13):\n",
    "        if month == 1 or month == 3 or month == 5 or month == 7 or month == 8 or month == 10 or month == 12:\n",
    "            if day_nr % 7 == 0 and jahr > 1900:\n",
    "                count += 1\n",
    "            day_nr += 31\n",
    "            continue\n",
    "\n",
    "        if month == 4 or month == 6 or month == 9 or month == 11:\n",
    "            if day_nr % 7 == 0 and jahr > 1900:\n",
    "                count += 1\n",
    "            day_nr += 30\n",
    "            continue\n",
    "        else:\n",
    "            if jahr % 4 == 0:\n",
    "                if jahr / 100 == 0:\n",
    "                    if jahr / 400 == 0:\n",
    "                        if day_nr % 7 == 0 and jahr > 1900:\n",
    "                            count += 1\n",
    "                        day_nr += 29\n",
    "                        continue\n",
    "                else:\n",
    "                    if day_nr % 7 == 0 and jahr > 1900:\n",
    "                        count += 1\n",
    "                    day_nr += 29\n",
    "                    continue\n",
    "            else:\n",
    "                if day_nr % 7 == 0 and jahr > 1900:\n",
    "                    count += 1\n",
    "                day_nr += 28\n",
    "                continue\n",
    "    jahr += 1\n",
    "\n",
    "print(count)\n",
    "\n",
    "\n",
    "end_time = datetime.now()\n",
    "time_diff = (end_time - start_time)\n",
    "execution_time = time_diff.total_seconds() * 1000\n",
    "\n",
    "print(f'{execution_time} miliseconds')"
   ],
   "metadata": {
    "collapsed": false,
    "pycharm": {
     "name": "#%%\n"
    }
   }
  },
  {
   "cell_type": "code",
   "execution_count": null,
   "outputs": [],
   "source": [],
   "metadata": {
    "collapsed": false,
    "pycharm": {
     "name": "#%%\n"
    }
   }
  }
 ],
 "metadata": {
  "kernelspec": {
   "display_name": "Python 3",
   "language": "python",
   "name": "python3"
  },
  "language_info": {
   "codemirror_mode": {
    "name": "ipython",
    "version": 2
   },
   "file_extension": ".py",
   "mimetype": "text/x-python",
   "name": "python",
   "nbconvert_exporter": "python",
   "pygments_lexer": "ipython2",
   "version": "2.7.6"
  }
 },
 "nbformat": 4,
 "nbformat_minor": 0
}