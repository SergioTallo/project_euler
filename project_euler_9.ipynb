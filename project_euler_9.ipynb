{
 "cells": [
  {
   "cell_type": "markdown",
   "source": [
    "# Special Pythagorean triplet\n",
    "\n",
    "Problem 9\n",
    "A Pythagorean triplet is a set of three natural numbers, a < b < c, for which,\n",
    "\n",
    "$a^2 + b^2 = c^2$<br>\n",
    "For example,\n",
    "32 + 42 = 9 + 16 = 25 = 52.\n",
    "\n",
    "There exists exactly one Pythagorean triplet for which a + b + c = 1000.\n",
    "Find the product abc."
   ],
   "metadata": {
    "collapsed": false,
    "pycharm": {
     "name": "#%% md\n"
    }
   }
  },
  {
   "cell_type": "code",
   "execution_count": 26,
   "outputs": [
    {
     "name": "stdout",
     "output_type": "stream",
     "text": [
      "31875000\n",
      "91716.899\n"
     ]
    }
   ],
   "source": [
    "import math\n",
    "from datetime import datetime\n",
    "start_time = datetime.now()\n",
    "\n",
    "for i in reversed(range(1, 999)):\n",
    "    for j in range(1, 999):\n",
    "        for k in range(1, 999):\n",
    "            if i < j < k and (i + j + k) == 1000:\n",
    "                if ((i**2) + (j**2)) == (k**2):\n",
    "                    print(i * j * k)\n",
    "\n",
    "end_time = datetime.now()\n",
    "time_diff = (end_time - start_time)\n",
    "execution_time = time_diff.total_seconds() * 1000\n",
    "\n",
    "print(execution_time)"
   ],
   "metadata": {
    "collapsed": false,
    "pycharm": {
     "name": "#%%\n"
    }
   }
  },
  {
   "cell_type": "code",
   "execution_count": 42,
   "outputs": [
    {
     "name": "stdout",
     "output_type": "stream",
     "text": [
      "31875000\n",
      "90.715\n"
     ]
    }
   ],
   "source": [
    "import math\n",
    "\n",
    "from datetime import datetime\n",
    "start_time = datetime.now()\n",
    "\n",
    "n = 1000\n",
    "\n",
    "for i in range(1, math.floor(n/3) + 1):\n",
    "    for j in range(i + 1, math.floor(n/2) + 1):\n",
    "        k = n - i - j\n",
    "        if k > j:\n",
    "            if ((i**2) + (j**2)) == (k**2):\n",
    "                print(i * j * k)\n",
    "                break\n",
    "    else:\n",
    "        continue\n",
    "    break\n",
    "\n",
    "end_time = datetime.now()\n",
    "time_diff = (end_time - start_time)\n",
    "execution_time = time_diff.total_seconds() * 1000\n",
    "\n",
    "print(execution_time)"
   ],
   "metadata": {
    "collapsed": false,
    "pycharm": {
     "name": "#%%\n"
    }
   }
  },
  {
   "cell_type": "markdown",
   "source": [
    "$$\n",
    "\\begin{equation}\n",
    "    \\begin{cases}\n",
    "        a^2 + b^2 = c^2\\\\\n",
    "        a + b + c = n\n",
    "    \\end{cases}\n",
    "\\end{equation}\n",
    "$$\n",
    "\n",
    "$$ c = n - a - b $$\n",
    "$$ a^2 + b^2 = (n - a - b)^2$$\n",
    "$$ a^2 + b^2 = (n - (a + b)^2$$\n",
    "$$ a^2 + b^2 = n^2 + (a + b)^2 - 2n(a+b)$$\n",
    "$$ a^2 + b^2 = n^2 + a^2 + b^2 + 2ab - 2na - 2nb$$\n",
    "$$ 2na - n^2 = 2ab + 2nb$$\n",
    "$$ 2na - n^2 = b(2a - 2n)$$\n",
    "$$ b = \\frac{2na - n^2}{2a - 2n}$$"
   ],
   "metadata": {
    "collapsed": false,
    "pycharm": {
     "name": "#%% md\n"
    }
   }
  },
  {
   "cell_type": "code",
   "execution_count": 55,
   "outputs": [
    {
     "name": "stdout",
     "output_type": "stream",
     "text": [
      "31875000\n",
      "1.3110000000000002\n"
     ]
    }
   ],
   "source": [
    "from datetime import datetime\n",
    "start_time = datetime.now()\n",
    "\n",
    "n = 1000\n",
    "\n",
    "for i in range(1, n//3 + 1):\n",
    "    j = ((2 * n * i) - (n**2)) // ((2 * i) - (2 * n))\n",
    "    k = n - i - j\n",
    "    if ((i**2) + (j**2)) == (k**2):\n",
    "        print(i * j * k)\n",
    "        break\n",
    "\n",
    "end_time = datetime.now()\n",
    "time_diff = (end_time - start_time)\n",
    "execution_time = time_diff.total_seconds() * 1000\n",
    "\n",
    "print(execution_time)"
   ],
   "metadata": {
    "collapsed": false,
    "pycharm": {
     "name": "#%%\n"
    }
   }
  }
 ],
 "metadata": {
  "kernelspec": {
   "display_name": "Python 3",
   "language": "python",
   "name": "python3"
  },
  "language_info": {
   "codemirror_mode": {
    "name": "ipython",
    "version": 2
   },
   "file_extension": ".py",
   "mimetype": "text/x-python",
   "name": "python",
   "nbconvert_exporter": "python",
   "pygments_lexer": "ipython2",
   "version": "2.7.6"
  }
 },
 "nbformat": 4,
 "nbformat_minor": 0
}