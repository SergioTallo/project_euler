{
 "cells": [
  {
   "cell_type": "markdown",
   "source": [
    "# Longest Collatz sequence\n",
    "\n",
    "Problem 14\n",
    "The following iterative sequence is defined for the set of positive integers:\n",
    "\n",
    "n → n/2 (n is even)\n",
    "n → 3n + 1 (n is odd)\n",
    "\n",
    "Using the rule above and starting with 13, we generate the following sequence:\n",
    "\n",
    "13 → 40 → 20 → 10 → 5 → 16 → 8 → 4 → 2 → 1\n",
    "It can be seen that this sequence (starting at 13 and finishing at 1) contains 10 terms. Although it has not been proved yet (Collatz Problem), it is thought that all starting numbers finish at 1.\n",
    "\n",
    "Which starting number, under one million, produces the longest chain?\n",
    "\n",
    "NOTE: Once the chain starts the terms are allowed to go above one million."
   ],
   "metadata": {
    "collapsed": false,
    "pycharm": {
     "name": "#%% md\n"
    }
   }
  },
  {
   "cell_type": "code",
   "execution_count": 66,
   "outputs": [
    {
     "name": "stdout",
     "output_type": "stream",
     "text": [
      "837799\n",
      "29359.976\n"
     ]
    }
   ],
   "source": [
    "from datetime import datetime\n",
    "start_time = datetime.now()\n",
    "\n",
    "max_count = 0\n",
    "max_n = 0\n",
    "\n",
    "for i in reversed(range(1, 1000001)):\n",
    "    n = i\n",
    "    count = 0\n",
    "    while n != 1:\n",
    "        if n % 2 == 0:\n",
    "            n = n / 2\n",
    "        else:\n",
    "            n  = (3 * n) + 1\n",
    "        count += 1\n",
    "\n",
    "    if count > max_count:\n",
    "        max_count = count\n",
    "        max_n = i\n",
    "\n",
    "print(max_n)\n",
    "\n",
    "end_time = datetime.now()\n",
    "time_diff = (end_time - start_time)\n",
    "execution_time = time_diff.total_seconds() * 1000\n",
    "\n",
    "print(execution_time)"
   ],
   "metadata": {
    "collapsed": false,
    "pycharm": {
     "name": "#%%\n"
    }
   }
  },
  {
   "cell_type": "code",
   "execution_count": 74,
   "outputs": [
    {
     "name": "stdout",
     "output_type": "stream",
     "text": [
      "837799\n",
      "1477.128\n"
     ]
    }
   ],
   "source": [
    "from datetime import datetime\n",
    "start_time = datetime.now()\n",
    "\n",
    "n = 1000000\n",
    "\n",
    "max_count = 0\n",
    "max_n = 0\n",
    "results = {}\n",
    "\n",
    "for i in range(1, n + 1, 2):\n",
    "    n = i\n",
    "    count = 0\n",
    "    while n != 1:\n",
    "        if n in results:\n",
    "            total = results[n] + count\n",
    "            results[i] = total\n",
    "            if total > max_count:\n",
    "                max_count = total\n",
    "                max_n = i\n",
    "            break\n",
    "        if n % 2 == 0:\n",
    "            n = n >> 1\n",
    "        else:\n",
    "            n  = (3 * n) + 1\n",
    "        count += 1\n",
    "    else:\n",
    "        results[i] = count\n",
    "        if count > max_count:\n",
    "            max_count = count\n",
    "            max_n = i\n",
    "\n",
    "print(max_n)\n",
    "\n",
    "end_time = datetime.now()\n",
    "time_diff = (end_time - start_time)\n",
    "execution_time = time_diff.total_seconds() * 1000\n",
    "\n",
    "print(execution_time)"
   ],
   "metadata": {
    "collapsed": false,
    "pycharm": {
     "name": "#%%\n"
    }
   }
  },
  {
   "cell_type": "code",
   "execution_count": 77,
   "outputs": [
    {
     "name": "stdout",
     "output_type": "stream",
     "text": [
      "837799\n",
      "1810.3990000000001\n"
     ]
    }
   ],
   "source": [
    "from datetime import datetime\n",
    "start_time = datetime.now()\n",
    "\n",
    "n = 1000000\n",
    "\n",
    "max_count = 0\n",
    "max_n = 0\n",
    "results = {}\n",
    "\n",
    "for i in range(1, n + 1):\n",
    "    n = i\n",
    "    count = 0\n",
    "    while n != 1:\n",
    "        if n in results:\n",
    "            total = results[n] + count\n",
    "            results[i] = total\n",
    "            if total > max_count:\n",
    "                max_count = total\n",
    "                max_n = i\n",
    "            break\n",
    "        if n % 2 == 0:\n",
    "            n = n >> 1\n",
    "        else:\n",
    "            n  = (3 * n) + 1\n",
    "        count += 1\n",
    "    else:\n",
    "        results[i] = count\n",
    "\n",
    "print(max_n)\n",
    "\n",
    "end_time = datetime.now()\n",
    "time_diff = (end_time - start_time)\n",
    "execution_time = time_diff.total_seconds() * 1000\n",
    "\n",
    "print(execution_time)"
   ],
   "metadata": {
    "collapsed": false,
    "pycharm": {
     "name": "#%%\n"
    }
   }
  },
  {
   "cell_type": "code",
   "execution_count": null,
   "outputs": [],
   "source": [],
   "metadata": {
    "collapsed": false,
    "pycharm": {
     "name": "#%%\n"
    }
   }
  }
 ],
 "metadata": {
  "kernelspec": {
   "display_name": "Python 3",
   "language": "python",
   "name": "python3"
  },
  "language_info": {
   "codemirror_mode": {
    "name": "ipython",
    "version": 2
   },
   "file_extension": ".py",
   "mimetype": "text/x-python",
   "name": "python",
   "nbconvert_exporter": "python",
   "pygments_lexer": "ipython2",
   "version": "2.7.6"
  }
 },
 "nbformat": 4,
 "nbformat_minor": 0
}